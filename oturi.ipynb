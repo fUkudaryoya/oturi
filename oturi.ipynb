{
  "nbformat": 4,
  "nbformat_minor": 0,
  "metadata": {
    "colab": {
      "provenance": []
    },
    "kernelspec": {
      "name": "python3",
      "display_name": "Python 3"
    },
    "language_info": {
      "name": "python"
    }
  },
  "cells": [
    {
      "cell_type": "code",
      "execution_count": 1,
      "metadata": {
        "colab": {
          "base_uri": "https://localhost:8080/"
        },
        "id": "nkwVr7oGmIbB",
        "outputId": "eaeae4ee-47ff-4b98-dbdb-bbbfcd964197"
      },
      "outputs": [
        {
          "output_type": "stream",
          "name": "stdout",
          "text": [
            "持っているお金を入力してください(円)1000\n",
            "購入商品の値段を入力してください(円)500\n",
            "おつり: 500 円\n",
            "500円: 1 枚 100円: 0 枚 50円: 0 枚 10円: 0 枚\n"
          ]
        }
      ],
      "source": [
        "n=int(input(\"持っているお金を入力してください(円)\"))\n",
        "X=int(input(\"購入商品の値段を入力してください(円)\"))\n",
        "\n",
        "change=n-X\n",
        "cahnge500=change//500\n",
        "change=change%500\n",
        "cahnge100=change//100\n",
        "change=change%100\n",
        "cahnge50=change//50\n",
        "change=change%50\n",
        "cahnge10=change//10\n",
        "\n",
        "if n<X:\n",
        "  print(\"お金が足りません\")\n",
        "else:\n",
        "  print(\"おつり:\",(500*cahnge500)+(100*cahnge100)+(50*cahnge50)+(10*cahnge10),\"円\")\n",
        "  print(\"500円:\",cahnge500,\"枚\",\"100円:\",cahnge100,\"枚\",\"50円:\",cahnge50,\"枚\",\"10円:\",cahnge10,\"枚\")"
      ]
    }
  ]
}